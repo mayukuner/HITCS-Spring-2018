{
 "cells": [
  {
   "cell_type": "code",
   "execution_count": 26,
   "metadata": {
    "collapsed": false
   },
   "outputs": [
    {
     "name": "stdout",
     "output_type": "stream",
     "text": [
      "Golden Section Search:\n",
      "Iter    a       b     lambda    mu   f(lambda) f(mu)\n",
      "  1  -10.00   10.00   -2.36    2.36    1.13   20.01\n",
      "  2  -10.00    2.36   -5.28   -2.36   11.75    1.13\n",
      "  3   -5.28    2.36   -2.36   -0.56    1.13    3.08\n",
      "  4   -5.28   -0.56   -3.48   -2.36    3.18    1.13\n",
      "  5   -3.48   -0.56   -2.36   -1.67    1.13    1.11\n",
      "  6   -2.36   -0.56   -1.67   -1.25    1.11    1.57\n",
      "  7   -2.36   -1.25   -1.94   -1.67    1.00    1.11\n",
      "  8   -2.36   -1.67   -2.10   -1.94    1.01    1.00\n",
      "  9   -2.10   -1.67   -1.94   -1.83    1.00    1.03\n",
      " 10   -2.10   -1.83   -2.00   -1.94    1.00    1.00\n",
      " 11   -2.10   -1.94   -2.04   -2.00    1.00    1.00\n",
      " 12   -2.04   -1.94   -2.00   -1.97    1.00    1.00\n",
      " 13   -2.04   -1.97\n",
      "Fibonacci Search:\n",
      "Iter    a       b     lambda    mu   f(lambda) f(mu)\n",
      "  1  -10.00   10.00   -2.36    2.36    1.13   20.01\n",
      "  2  -10.00    2.36   -5.28   -2.36   11.75    1.13\n",
      "  3   -5.28    2.36   -2.36   -0.56    1.13    3.08\n",
      "  4   -5.28   -0.56   -3.48   -2.36    3.18    1.13\n",
      "  5   -3.48   -0.56   -2.36   -1.67    1.13    1.11\n",
      "  6   -2.36   -0.56   -1.67   -1.24    1.11    1.57\n",
      "  7   -2.36   -1.24   -1.93   -1.67    1.00    1.11\n",
      "  8   -2.36   -1.67   -2.10   -1.93    1.01    1.00\n",
      "  9   -2.10   -1.67   -1.93   -1.85    1.00    1.02\n",
      " 10   -2.10   -1.85   -2.02   -1.93    1.00    1.00\n",
      " 11   -2.10   -1.93   -2.02   -2.02    1.00    1.00\n",
      " 12   -2.02   -1.93\n",
      "Dichotomous Search:\n",
      "Iter    a       b     lambda    mu   f(lambda) f(mu)\n",
      "  1  -10.00   10.00   -0.00    0.00    5.00    5.00\n",
      "  2  -10.00    0.00   -5.00   -5.00   10.00   10.00\n",
      "  3   -5.00    0.00   -2.50   -2.50    1.25    1.25\n",
      "  4   -2.50    0.00   -1.25   -1.25    1.56    1.56\n",
      "  5   -2.50   -1.25   -1.88   -1.87    1.02    1.02\n",
      "  6   -2.50   -1.87   -2.19   -2.19    1.04    1.04\n",
      "  7   -2.19   -1.87   -2.03   -2.03    1.00    1.00\n",
      "  8   -2.03   -1.87   -1.95   -1.95    1.00    1.00\n",
      "  9   -2.03   -1.95\n"
     ]
    }
   ],
   "source": [
    "def golden_section_search(L, R, f, prec):\n",
    "    print(\"Golden Section Search:\")\n",
    "    print(\"Iter    a       b     lambda    mu   f(lambda) f(mu)\")\n",
    "    num_iter = 0\n",
    "    while R - L > prec:\n",
    "        num_iter += 1\n",
    "        la = L + 0.382 * (R-L)\n",
    "        mu = L + 0.618 * (R-L)\n",
    "        print(\"%3d %7.2f %7.2f %7.2f %7.2f %7.2f %7.2f\"%(num_iter, L, R, la, mu, f(la), f(mu)))\n",
    "        if f(la) < f(mu):\n",
    "            R = mu\n",
    "        else:\n",
    "            L = la\n",
    "    num_iter += 1\n",
    "    print(\"%3d %7.2f %7.2f\"%(num_iter, L, R))\n",
    "\n",
    "def Fibonacci_search(L, R, f, prec):\n",
    "    F = [0, 1, 1]\n",
    "    n = 2\n",
    "    while F[-1] <= (R-L)/prec:\n",
    "        n += 1\n",
    "        F.append(F[-1] + F[-2])\n",
    "        \n",
    "    print(\"Fibonacci Search:\")\n",
    "    print(\"Iter    a       b     lambda    mu   f(lambda) f(mu)\")\n",
    "    num_iter = 0\n",
    "    while R - L > prec:\n",
    "        num_iter += 1\n",
    "        la = L + F[n-num_iter-1]/F[n-num_iter+1] * (R-L)\n",
    "        mu = L + F[n-num_iter]/F[n-num_iter+1] * (R-L)\n",
    "        print(\"%3d %7.2f %7.2f %7.2f %7.2f %7.2f %7.2f\"%(num_iter, L, R, la, mu, f(la), f(mu)))\n",
    "        if f(la) < f(mu):\n",
    "            R = mu\n",
    "        else:\n",
    "            L = la\n",
    "    num_iter += 1\n",
    "    print(\"%3d %7.2f %7.2f\"%(num_iter, L, R))\n",
    "\n",
    "def dichotomous_search(L, R, f, prec):\n",
    "    print(\"Dichotomous Search:\")\n",
    "    print(\"Iter    a       b     lambda    mu   f(lambda) f(mu)\")\n",
    "    num_iter = 0\n",
    "    eps = 0.0001\n",
    "    while R - L > prec:\n",
    "        num_iter += 1\n",
    "        la = (L+R)/2 - eps\n",
    "        mu = (L+R)/2 + eps\n",
    "        print(\"%3d %7.2f %7.2f %7.2f %7.2f %7.2f %7.2f\"%(num_iter, L, R, la, mu, f(la), f(mu)))\n",
    "        if f(la) < f(mu):\n",
    "            R = mu\n",
    "        else:\n",
    "            L = la\n",
    "    num_iter += 1\n",
    "    print(\"%3d %7.2f %7.2f\"%(num_iter, L, R))\n",
    "    \n",
    "golden_section_search(-10, 10, lambda x:x*x+4*x+5, 0.1)\n",
    "Fibonacci_search(-10, 10, lambda x:x*x+4*x+5, 0.1)\n",
    "dichotomous_search(-10, 10, lambda x:x*x+4*x+5, 0.1)\n"
   ]
  },
  {
   "cell_type": "code",
   "execution_count": null,
   "metadata": {
    "collapsed": true
   },
   "outputs": [],
   "source": []
  }
 ],
 "metadata": {
  "kernelspec": {
   "display_name": "Python 3",
   "language": "python",
   "name": "python3"
  },
  "language_info": {
   "codemirror_mode": {
    "name": "ipython",
    "version": 3
   },
   "file_extension": ".py",
   "mimetype": "text/x-python",
   "name": "python",
   "nbconvert_exporter": "python",
   "pygments_lexer": "ipython3",
   "version": "3.5.3"
  }
 },
 "nbformat": 4,
 "nbformat_minor": 2
}
